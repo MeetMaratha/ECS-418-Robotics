{
 "cells": [
  {
   "cell_type": "markdown",
   "metadata": {},
   "source": [
    "Name : Meet Manoj Maratha\n",
    "\n",
    "Roll No : 19190\n",
    "\n",
    "Assignment 1 - ECS 418"
   ]
  },
  {
   "cell_type": "code",
   "execution_count": 1,
   "metadata": {},
   "outputs": [],
   "source": [
    "# Import modules\n",
    "import numpy as np"
   ]
  },
  {
   "cell_type": "markdown",
   "metadata": {},
   "source": [
    "Important Functions"
   ]
  },
  {
   "cell_type": "code",
   "execution_count": 2,
   "metadata": {},
   "outputs": [],
   "source": [
    "def _distanceBetweenLineAndPoint(point : list | tuple, line_points : list[list] | list[tuple] | tuple[tuple] | tuple[list]) -> float:\n",
    "    \"\"\"Returns distance between a point and a line\n",
    "\n",
    "    Args:\n",
    "        point (list | tuple): point from which we need the distance\n",
    "        line_points (list[list] | list[tuple] | tuple[tuple] | tuple[list]): two points which makes the line\n",
    "\n",
    "    Returns:\n",
    "        float: distance between the point and the line\n",
    "    \"\"\"\n",
    "    assert(len(line_points)) == 2\n",
    "    assert(len(point)) == 2\n",
    "    for p in line_points : assert(len(p)) == 2\n",
    "    p1, p2 = line_points\n",
    "    m = (p2[1] - p1[1])/(p2[0] - p1[0])\n",
    "    b = (p1[0] * p2[1] - p2[0] * p1[1])/(p1[0] - p2[0])\n",
    "    return np.abs(- m*point[0] + point[1] - b)/np.sqrt(m**2+1)\n",
    "\n",
    "def _distanceBetweenPolygonAndPoint(point : list | tuple, polygon_vertices : list[list] | list[tuple] | tuple[tuple] | tuple[list]) -> float:\n",
    "    \"\"\"Returns minimum distance between a point and polygon\n",
    "\n",
    "    Args:\n",
    "        point (list | tuple): point from which we need the minimum distance\n",
    "        polygon_vertices (list[list] | list[tuple] | tuple[tuple] | tuple[list]): vertices of polygon\n",
    "\n",
    "    Returns:\n",
    "        float: Minumum distance between the point and the polygon\n",
    "    \"\"\"\n",
    "    line_point = None\n",
    "    min_distance = 1.7976931348623157e+308 # Maximum float value\n",
    "    for points in polygon_vertices:\n",
    "        p1, p2 = points\n",
    "        r = np.dot(p2 - p1, point - p1)\n",
    "        r /= np.linalg.norm(p2 - p1)**2\n",
    "        if r < 0:\n",
    "            min_dist = np.linalg.norm(point - p1)\n",
    "            line_point = points\n",
    "        elif r > 1:\n",
    "            min_dist = np.linalg.norm(p2 - point)\n",
    "            line_point = points\n",
    "        else:\n",
    "            min_dist = np.sqrt(np.linalg.norm(point - p1)**2 - (r * np.linalg.norm(p2 - p1))**2)\n",
    "            line_point = points\n",
    "        \n",
    "        if min_dist < min_distance:\n",
    "            min_distance = min_dist\n",
    "    return min_distance\n",
    "\n",
    "def polygonTangentLines(polygon : list[list] | list[tuple] | tuple[tuple] | tuple[list]) -> list[list]:\n",
    "    \"\"\"Returns slopes and y-intercenpt for the tangent lines\n",
    "\n",
    "    Args:\n",
    "        polygon (list[list] | list[tuple] | tuple[tuple] | tuple[list]): Polygon for which we want tangent lines\n",
    "\n",
    "    Returns:\n",
    "        list[list]: List of slopes and y-intercept, each lines data is stored as [...,[slope, y-intercept], ....]\n",
    "    \"\"\"\n",
    "    tangents = []\n",
    "    for edge in polygon:\n",
    "        x1, y1 = edge[0]\n",
    "        x2, y2 = edge[1]\n",
    "        m = (y2 - y1)/(x2 - x1)\n",
    "        b = (x1*y2 - x2*y1)/(x1-x2)\n",
    "        tangents.append([m, b])\n",
    "    return tangents\n",
    "\n",
    "def polygonIntersectionPoint(poly1 : list[list] | list[tuple] | tuple[tuple] | tuple[list], poly2 : list[list] | list[tuple] | tuple[tuple] | tuple[list]) -> dict:\n",
    "    \"\"\"Returns the intersecting points of two polygons\n",
    "\n",
    "    Args:\n",
    "        poly1 (list[list] | list[tuple] | tuple[tuple] | tuple[list]): Polygon 1\n",
    "        poly2 (list[list] | list[tuple] | tuple[tuple] | tuple[list]): Polygon 2\n",
    "\n",
    "    Returns:\n",
    "        float | bool: Intersection points\n",
    "    \"\"\"\n",
    "    intersection_points = {}\n",
    "    for line1 in poly1:\n",
    "        for line2 in poly2:\n",
    "            A, B = line1\n",
    "            C, D = line2\n",
    "            # If there exists a point of intersection than it satisfies equation P = C + CD.t1 = A + AB.t2\n",
    "            # Simplyfying the above equation gives us t\n",
    "            t = np.cross(C - A, D - C)/np.cross(B - A, D - C)\n",
    "\n",
    "            # If t is NAN then the lines are collinear\n",
    "            # If t is INF then the lines are parallel\n",
    "            # If t is > 1 then the lines intersect outside their end points\n",
    "            # If t is between 0 and 1, the lines intersect somewhere in their end points\n",
    "            if 0 <= t and t <= 1 and not np.isnan(t): \n",
    "                idx = f'({line1[0]}, {line1[1]}),({line2[0]}, {line2[1]})'\n",
    "                intersection_points[idx] = A + (B - A).dot(t)\n",
    "    return intersection_points\n"
   ]
  },
  {
   "cell_type": "markdown",
   "metadata": {},
   "source": [
    "***Question 1***\n",
    "\n",
    "Write functions to\n",
    "- Compute a line between two points.\n",
    "- Compute distance between two points.\n",
    "- Compute perpendicular distance between a point and a line segment\n",
    "- Compute distance between a point and a Polygon\n",
    "- Compute tangent vector to a polygon\n",
    "- Find intersection of two polygons"
   ]
  },
  {
   "cell_type": "code",
   "execution_count": 3,
   "metadata": {},
   "outputs": [
    {
     "name": "stdout",
     "output_type": "stream",
     "text": [
      "Let the two points given be (5, 3) and (7, 9).\n",
      "The equation of line between these two points is given as y = (3.0)x + (-12.0).\n"
     ]
    }
   ],
   "source": [
    "x1, y1, x2, y2 = 5, 3, 7, 9\n",
    "print(f\"Let the two points given be (5, 3) and (7, 9).\")\n",
    "m = (y2 - y1)/(x2 - x1)\n",
    "b = (x1*y2 - x2*y1)/(x1-x2)\n",
    "print(f\"The equation of line between these two points is given as y = ({m})x + ({b}).\")"
   ]
  },
  {
   "cell_type": "code",
   "execution_count": 4,
   "metadata": {},
   "outputs": [
    {
     "data": {
      "text/plain": [
       "(3.0, -12.0)"
      ]
     },
     "execution_count": 4,
     "metadata": {},
     "output_type": "execute_result"
    }
   ],
   "source": [
    "x1, y1, x2, y2 = 5, 3, 7, 9\n",
    "m = (y2 - y1)/(x2 - x1)\n",
    "b = (x1*y2 - x2*y1)/(x1-x2)\n",
    "m,b "
   ]
  },
  {
   "cell_type": "code",
   "execution_count": 5,
   "metadata": {},
   "outputs": [
    {
     "data": {
      "text/plain": [
       "(1.0, -0.0)"
      ]
     },
     "execution_count": 5,
     "metadata": {},
     "output_type": "execute_result"
    }
   ],
   "source": [
    "x1, y1, x2, y2 = 1, 1, 5, 5\n",
    "m = (y2 - y1)/(x2 - x1)\n",
    "b = (x1*y2 - x2*y1)/(x1-x2)\n",
    "m,b "
   ]
  },
  {
   "cell_type": "code",
   "execution_count": 6,
   "metadata": {},
   "outputs": [
    {
     "name": "stdout",
     "output_type": "stream",
     "text": [
      "Let the two points given be (5, 3) and (7, 9).\n",
      "The distance between these two points is 6.324555320336759.\n"
     ]
    }
   ],
   "source": [
    "x1, y1, x2, y2 = 5, 3, 7, 9\n",
    "print(f\"Let the two points given be (5, 3) and (7, 9).\")\n",
    "dist = np.sqrt((x2 - x1)**2 + (y2 - y1)**2)\n",
    "print(f\"The distance between these two points is {dist}.\")"
   ]
  },
  {
   "cell_type": "code",
   "execution_count": 7,
   "metadata": {},
   "outputs": [
    {
     "name": "stdout",
     "output_type": "stream",
     "text": [
      "Let the line be formed by points [35 65] and [65 20]. The equation of this line is given as y = (-1.5)x + (117.5).\n",
      "The distance of point [1 1] from this line is 63.790522565901355.\n"
     ]
    }
   ],
   "source": [
    "p1, p2, p3 = np.array([35, 65]), np.array([65, 20]), np.array([1, 1])\n",
    "m = (p2[1] - p1[1])/(p2[0] - p1[0])\n",
    "b = (p1[0] * p2[1] - p2[0] * p1[1])/(p1[0] - p2[0])\n",
    "print(f\"Let the line be formed by points {p1} and {p2}. The equation of this line is given as y = ({m})x + ({b}).\")\n",
    "print(f\"The distance of point {p3} from this line is {_distanceBetweenLineAndPoint(p3, (p1, p2))}.\")"
   ]
  },
  {
   "cell_type": "code",
   "execution_count": 8,
   "metadata": {},
   "outputs": [
    {
     "name": "stdout",
     "output_type": "stream",
     "text": [
      "Minumum distance between the point [5 5] and the given polygon is 14.142135623730951\n"
     ]
    }
   ],
   "source": [
    "polygon_vertices = np.array([\n",
    "    [[10, 20], [20, 35]],\n",
    "    [[20, 35], [35, 65]],\n",
    "    [[35, 65], [65, 20]],\n",
    "    [[65, 20], [15, 15]],\n",
    "    [[15, 15], [10, 20]]\n",
    "])\n",
    "point = np.array([5, 5])\n",
    "print(f\"Minumum distance between the point {point} and the given polygon is {_distanceBetweenPolygonAndPoint(point, polygon_vertices)}\")"
   ]
  },
  {
   "cell_type": "code",
   "execution_count": 9,
   "metadata": {},
   "outputs": [
    {
     "name": "stdout",
     "output_type": "stream",
     "text": [
      "Tangent lines for the given polygon are : \n",
      "y = (1.5)x + (5.0)\n",
      "y = (2.0)x + (-5.0)\n",
      "y = (-1.5)x + (117.5)\n",
      "y = (0.1)x + (13.5)\n",
      "y = (-1.0)x + (30.0)\n"
     ]
    }
   ],
   "source": [
    "polygon_vertices = np.array([\n",
    "    [[10, 20], [20, 35]],\n",
    "    [[20, 35], [35, 65]],\n",
    "    [[35, 65], [65, 20]],\n",
    "    [[65, 20], [15, 15]],\n",
    "    [[15, 15], [10, 20]]\n",
    "])\n",
    "tangents = polygonTangentLines(polygon_vertices)\n",
    "print(f\"Tangent lines for the given polygon are : \")\n",
    "for line in tangents:\n",
    "    print(f\"y = ({line[0]})x + ({line[1]})\")"
   ]
  },
  {
   "cell_type": "code",
   "execution_count": 10,
   "metadata": {},
   "outputs": [
    {
     "name": "stdout",
     "output_type": "stream",
     "text": [
      "The intersecting points for the two given polygons is :\n",
      "([10 20], [20 35]),([10 20], [15 45]) : [10. 20.]\n",
      "([10 20], [20 35]),([25 65], [13 20]) : [15.  27.5]\n",
      "([10 20], [20 35]),([ 3 15], [10 20]) : [10. 20.]\n",
      "([35 65], [65 20]),([13 20], [ 3 15]) : [52.  39.5]\n",
      "([35 65], [65 20]),([ 3 15], [10 20]) : [47.25806452 46.61290323]\n",
      "([15 15], [10 20]),([10 20], [15 45]) : [10. 20.]\n",
      "([15 15], [10 20]),([25 65], [13 20]) : [12.36842105 17.63157895]\n",
      "([15 15], [10 20]),([13 20], [ 3 15]) : [11. 19.]\n",
      "([15 15], [10 20]),([ 3 15], [10 20]) : [10. 20.]\n"
     ]
    },
    {
     "name": "stderr",
     "output_type": "stream",
     "text": [
      "/tmp/ipykernel_1512/3559817411.py:84: RuntimeWarning: divide by zero encountered in divide\n",
      "  t = np.cross(C - A, D - C)/np.cross(B - A, D - C)\n"
     ]
    }
   ],
   "source": [
    "polygon_vertices1 = np.array([\n",
    "    [[10, 20], [20, 35]],\n",
    "    [[20, 35], [35, 65]],\n",
    "    [[35, 65], [65, 20]],\n",
    "    [[65, 20], [15, 15]],\n",
    "    [[15, 15], [10, 20]]\n",
    "])\n",
    "polygon_vertices2 = np.array([\n",
    "    [[10, 20], [15, 45]],\n",
    "    [[15, 45], [25, 65]],\n",
    "    [[25, 65], [13, 20]],\n",
    "    [[13, 20], [3, 15]],\n",
    "    [[3, 15], [10, 20]]\n",
    "])\n",
    "intersecting_points = polygonIntersectionPoint(polygon_vertices1, polygon_vertices2)\n",
    "print(f\"The intersecting points for the two given polygons is :\")\n",
    "for id, vals in intersecting_points.items():\n",
    "    print(f\"{id} : {vals}\")"
   ]
  }
 ],
 "metadata": {
  "kernelspec": {
   "display_name": "Python 3.10.6 64-bit",
   "language": "python",
   "name": "python3"
  },
  "language_info": {
   "codemirror_mode": {
    "name": "ipython",
    "version": 3
   },
   "file_extension": ".py",
   "mimetype": "text/x-python",
   "name": "python",
   "nbconvert_exporter": "python",
   "pygments_lexer": "ipython3",
   "version": "3.10.6"
  },
  "orig_nbformat": 4,
  "vscode": {
   "interpreter": {
    "hash": "e7370f93d1d0cde622a1f8e1c04877d8463912d04d973331ad4851f04de6915a"
   }
  }
 },
 "nbformat": 4,
 "nbformat_minor": 2
}
